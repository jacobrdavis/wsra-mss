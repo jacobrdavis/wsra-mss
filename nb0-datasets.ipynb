{
 "cells": [
  {
   "cell_type": "markdown",
   "metadata": {},
   "source": [
    "# Datasets"
   ]
  },
  {
   "cell_type": "code",
   "execution_count": 1,
   "metadata": {},
   "outputs": [],
   "source": [
    "import os\n",
    "from typing import List\n",
    "\n",
    "import numpy as np\n",
    "import pywsra\n",
    "import xarray as xr\n",
    "from littlebuoybigwaves import geo\n",
    "\n",
    "from configure import get_config\n"
   ]
  },
  {
   "cell_type": "markdown",
   "metadata": {},
   "source": [
    "# Setup"
   ]
  },
  {
   "cell_type": "markdown",
   "metadata": {},
   "source": [
    "Load the configuration file, `config.toml`, which contains the data directories."
   ]
  },
  {
   "cell_type": "code",
   "execution_count": 2,
   "metadata": {},
   "outputs": [],
   "source": [
    "config = get_config()"
   ]
  },
  {
   "cell_type": "markdown",
   "metadata": {},
   "source": [
    "## WSRA and P-3 met data"
   ]
  },
  {
   "cell_type": "code",
   "execution_count": 3,
   "metadata": {},
   "outputs": [],
   "source": [
    "WSRA_DIR = config['dir']['wsra']\n",
    "\n",
    "def construct_wsra_path(storm_name: str) -> str:\n",
    "    return os.path.join(WSRA_DIR, storm_name)\n",
    "\n",
    "def read_wsra_and_met_data(\n",
    "    storm_name: str,\n",
    "    met_data_vars:  str | List[str] = 'all',\n",
    "    met_rename_dict: dict[str, str] | None = None,\n",
    ") -> xr.Dataset:\n",
    "    # Open WSRA and P-3 met data.\n",
    "    directory = construct_wsra_path(storm_name)\n",
    "    wsra_ds = pywsra.read_wsra_directory(directory, index_by_time=True)\n",
    "    met_ds = pywsra.read_met_directory(os.path.join(directory, 'met'),  # TODO: use AC data?\n",
    "                                       data_vars=met_data_vars)\n",
    "\n",
    "    # Merge the datasets by resampling the P-3 met data onto the WSRA times.\n",
    "    wsra_merged_ds = pywsra.merge_met_vars(wsra_ds=wsra_ds,\n",
    "                                           met_ds=met_ds,\n",
    "                                           data_vars=met_data_vars,\n",
    "                                           resample_method=np.nanmedian,\n",
    "                                           rename_dict=met_rename_dict)\n",
    "\n",
    "    # Save `storm_name` as an attribute for future reference.\n",
    "    wsra_merged_ds.attrs['storm_name'] = storm_name.lower()\n",
    "\n",
    "    return wsra_merged_ds\n"
   ]
  },
  {
   "cell_type": "code",
   "execution_count": 4,
   "metadata": {},
   "outputs": [],
   "source": [
    "read_kwargs = dict(\n",
    "    met_data_vars = [\n",
    "        'SfmrWS.1', 'SfmrWErr.1', 'SfmrRainRate.1', 'SfmrDV.1', 'LonGPS.1', 'LatGPS.1',\n",
    "    ],\n",
    "    met_rename_dict = {\n",
    "        'SfmrWS.1': 'met_sfmr_10m_wind_speed',\n",
    "        'SfmrWErr.1': 'met_sfmr_10m_wind_speed_error',\n",
    "        'SfmrRainRate.1': 'met_sfmr_rain_rate',\n",
    "        'SfmrDV.1': 'met_sfmr_data_validity',\n",
    "        'LonGPS.1': 'met_longitude',\n",
    "        'LatGPS.1': 'met_latitude',\n",
    "    },\n",
    ")"
   ]
  },
  {
   "cell_type": "code",
   "execution_count": 9,
   "metadata": {},
   "outputs": [
    {
     "name": "stderr",
     "output_type": "stream",
     "text": [
      "/Users/jacob/Programs/pywsra/src/pywsra/met.py:166: RuntimeWarning: All-NaN slice encountered\n",
      "  values.append(resample_method(met_in_window[var].values))\n",
      "/Users/jacob/Programs/pywsra/src/pywsra/met.py:166: RuntimeWarning: All-NaN slice encountered\n",
      "  values.append(resample_method(met_in_window[var].values))\n",
      "/Users/jacob/Programs/pywsra/src/pywsra/met.py:166: RuntimeWarning: All-NaN slice encountered\n",
      "  values.append(resample_method(met_in_window[var].values))\n",
      "/Users/jacob/Programs/pywsra/src/pywsra/met.py:166: RuntimeWarning: All-NaN slice encountered\n",
      "  values.append(resample_method(met_in_window[var].values))\n",
      "/Users/jacob/Programs/pywsra/src/pywsra/met.py:166: RuntimeWarning: All-NaN slice encountered\n",
      "  values.append(resample_method(met_in_window[var].values))\n",
      "/opt/homebrew/Caskroom/miniconda/base/envs/wsra-mss/lib/python3.10/site-packages/numpy/lib/nanfunctions.py:1215: RuntimeWarning: Mean of empty slice\n",
      "  return np.nanmean(a, axis, out=out, keepdims=keepdims)\n"
     ]
    }
   ],
   "source": [
    "earl_ds = read_wsra_and_met_data('Earl', **read_kwargs)\n",
    "fiona_ds = read_wsra_and_met_data('Fiona', **read_kwargs)\n",
    "ian_ds = read_wsra_and_met_data('Ian', **read_kwargs)\n",
    "# julia_ds = read_wsra_and_met_data('Julia', **read_kwargs)  #TODO: wrong data on Prosensing site for Julia \n",
    "idalia_ds = read_wsra_and_met_data('Idalia', **read_kwargs)\n",
    "lee_ds = read_wsra_and_met_data('Lee', **read_kwargs)"
   ]
  },
  {
   "cell_type": "markdown",
   "metadata": {},
   "source": [
    "## NHC"
   ]
  },
  {
   "cell_type": "code",
   "execution_count": 6,
   "metadata": {},
   "outputs": [],
   "source": [
    "NHC_DIR = config['dir']['nhc']\n",
    "\n",
    "def construct_nhc_path(storm_id: str, feature: str) -> str:\n",
    "    folder = f'{storm_id.lower()}_best_track'\n",
    "    filename = f'{storm_id.upper()}_{feature}.shp'\n",
    "    return os.path.join(NHC_DIR, folder, filename)\n",
    "\n",
    "def read_nhc_best_track(storm_id):\n",
    "    pts = geo.read_shp_file(construct_nhc_path(storm_id, 'pts'), index_by_datetime=True)\n",
    "    pts = geo.best_track_pts_to_intensity(pts)\n",
    "    lin = geo.read_shp_file(construct_nhc_path(storm_id, 'lin'))\n",
    "    windswath = geo.read_shp_file(construct_nhc_path(storm_id, 'windswath'))\n",
    "    # radii = geo.read_shp_file(construct_nhc_path(storm_id, 'radii'))\n",
    "    return pts, lin, windswath #, radii\n"
   ]
  },
  {
   "cell_type": "code",
   "execution_count": 7,
   "metadata": {},
   "outputs": [],
   "source": [
    "earl_best_track = read_nhc_best_track(storm_id=earl_ds.attrs['storm_id'])\n",
    "fiona_best_track = read_nhc_best_track(storm_id=fiona_ds.attrs['storm_id'])\n",
    "ian_best_track = read_nhc_best_track(storm_id=ian_ds.attrs['storm_id'])\n",
    "# julia_best_track = read_nhc_best_track(storm_id=julia_ds.attrs['storm_id'])\n",
    "idalia_best_track = read_nhc_best_track(storm_id=idalia_ds.attrs['storm_id'])\n",
    "lee_best_track = read_nhc_best_track(storm_id=lee_ds.attrs['storm_id'])"
   ]
  },
  {
   "cell_type": "markdown",
   "metadata": {},
   "source": [
    "## Store"
   ]
  },
  {
   "cell_type": "code",
   "execution_count": 8,
   "metadata": {},
   "outputs": [],
   "source": [
    "%%capture\n",
    "\n",
    "%store earl_ds\n",
    "%store fiona_ds\n",
    "%store ian_ds\n",
    "# %store julia_ds\n",
    "%store idalia_ds\n",
    "%store lee_ds\n",
    "\n",
    "\n",
    "%store earl_best_track\n",
    "%store fiona_best_track\n",
    "%store ian_best_track\n",
    "# %store julia_best_track\n",
    "%store idalia_best_track\n",
    "%store lee_best_track"
   ]
  }
 ],
 "metadata": {
  "kernelspec": {
   "display_name": "PyWSRA",
   "language": "python",
   "name": "python3"
  },
  "language_info": {
   "codemirror_mode": {
    "name": "ipython",
    "version": 3
   },
   "file_extension": ".py",
   "mimetype": "text/x-python",
   "name": "python",
   "nbconvert_exporter": "python",
   "pygments_lexer": "ipython3",
   "version": "3.10.13"
  }
 },
 "nbformat": 4,
 "nbformat_minor": 2
}
